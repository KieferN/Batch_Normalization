{
  "nbformat": 4,
  "nbformat_minor": 0,
  "metadata": {
    "colab": {
      "name": "BatchNorm_Inception_Cifa.ipynb",
      "provenance": [],
      "collapsed_sections": [],
      "toc_visible": true,
      "machine_shape": "hm",
      "include_colab_link": true
    },
    "kernelspec": {
      "name": "python3",
      "display_name": "Python 3"
    },
    "accelerator": "GPU"
  },
  "cells": [
    {
      "cell_type": "markdown",
      "metadata": {
        "id": "view-in-github",
        "colab_type": "text"
      },
      "source": [
        "<a href=\"https://colab.research.google.com/github/KieferN/Batch_Normalization/blob/master/BatchNorm_Inception_Cifa.ipynb\" target=\"_parent\"><img src=\"https://colab.research.google.com/assets/colab-badge.svg\" alt=\"Open In Colab\"/></a>"
      ]
    },
    {
      "cell_type": "markdown",
      "metadata": {
        "id": "6AIcMS7vRFu9",
        "colab_type": "text"
      },
      "source": [
        "## Inception Net with Batch Normalization"
      ]
    },
    {
      "cell_type": "markdown",
      "metadata": {
        "id": "el8xu_mpYB01",
        "colab_type": "text"
      },
      "source": [
        "# Imports"
      ]
    },
    {
      "cell_type": "code",
      "metadata": {
        "id": "rCLk2y09ErM1",
        "colab_type": "code",
        "colab": {}
      },
      "source": [
        "%load_ext tensorboard\n",
        "\n",
        "from keras.datasets import cifar10\n",
        "from keras.utils import np_utils\n",
        "from keras.layers import Input, Conv2D, MaxPool2D, concatenate, \\\n",
        "BatchNormalization, Dense, Activation, \\\n",
        "GlobalAveragePooling2D, Dropout\n",
        "from keras.models import Model\n",
        "from keras.utils import plot_model\n",
        "from keras.optimizers import SGD\n",
        "from keras.preprocessing.image import ImageDataGenerator\n",
        "\n",
        "from datetime import datetime\n",
        "from keras.callbacks import TensorBoard, LearningRateScheduler\n",
        "\n",
        "import math\n"
      ],
      "execution_count": 0,
      "outputs": []
    },
    {
      "cell_type": "markdown",
      "metadata": {
        "id": "HPSO2UWSZxBP",
        "colab_type": "text"
      },
      "source": [
        "# Preparations"
      ]
    },
    {
      "cell_type": "markdown",
      "metadata": {
        "id": "_ZtRCjjrYszx",
        "colab_type": "text"
      },
      "source": [
        "Load Input Data \\\\\n",
        "(For more information on CIFAR10: https://www.cs.toronto.edu/~kriz/cifar.html)"
      ]
    },
    {
      "cell_type": "code",
      "metadata": {
        "id": "mfq4o4l2RCki",
        "colab_type": "code",
        "colab": {}
      },
      "source": [
        "(X_train, y_train), (X_test, y_test) = cifar10.load_data()"
      ],
      "execution_count": 0,
      "outputs": []
    },
    {
      "cell_type": "markdown",
      "metadata": {
        "id": "XISFpJgbYw69",
        "colab_type": "text"
      },
      "source": [
        "Normalize Input Data"
      ]
    },
    {
      "cell_type": "code",
      "metadata": {
        "id": "I9ocGQDxROhq",
        "colab_type": "code",
        "colab": {}
      },
      "source": [
        "X_train = X_train.astype('float32')\n",
        "X_test = X_test.astype('float32')\n",
        "X_train = X_train / 255.0\n",
        "X_test = X_test / 255.0\n",
        "\n",
        "y_train = np_utils.to_categorical(y_train)\n",
        "y_test = np_utils.to_categorical(y_test)\n",
        "\n",
        "input_img = Input(shape = (32, 32, 3))"
      ],
      "execution_count": 0,
      "outputs": []
    },
    {
      "cell_type": "markdown",
      "metadata": {
        "id": "Ka23VkcYZ7P2",
        "colab_type": "text"
      },
      "source": [
        "Create Filesystem Structure for Tensorboard"
      ]
    },
    {
      "cell_type": "code",
      "metadata": {
        "id": "o5J_gsgJaAts",
        "colab_type": "code",
        "colab": {}
      },
      "source": [
        "!rm -rf /content/logs\n",
        "!mkdir /content/logs/\n",
        "!mkdir /content/logs/scalars"
      ],
      "execution_count": 0,
      "outputs": []
    },
    {
      "cell_type": "markdown",
      "metadata": {
        "id": "pUddVowmY_fF",
        "colab_type": "text"
      },
      "source": [
        "# Create Model"
      ]
    },
    {
      "cell_type": "markdown",
      "metadata": {
        "id": "FTMcWpr7g509",
        "colab_type": "text"
      },
      "source": [
        "Model Parameters"
      ]
    },
    {
      "cell_type": "code",
      "metadata": {
        "id": "o6oiIs7yg4X4",
        "colab_type": "code",
        "colab": {}
      },
      "source": [
        "USE_BATCHNORM = True"
      ],
      "execution_count": 0,
      "outputs": []
    },
    {
      "cell_type": "markdown",
      "metadata": {
        "id": "_Yjsb9gUh-d2",
        "colab_type": "text"
      },
      "source": [
        "Convolution with Batch Normalization \\\\\n",
        "(Based on https://medium.com/@mannasiladittya/building-inception-resnet-v2-in-keras-from-scratch-a3546c4d93f0)"
      ]
    },
    {
      "cell_type": "code",
      "metadata": {
        "id": "WGy71MZQiE-8",
        "colab_type": "code",
        "colab": {}
      },
      "source": [
        "def conv(x,numfilt,filtsz,batchnorm,strides=1,padding='same',act=True,name=None):\n",
        "  x = Conv2D(numfilt,filtsz,strides=strides,padding=padding,data_format='channels_last',use_bias=False,name=name+'_conv2d')(x)\n",
        "  if batchnorm:\n",
        "    x = BatchNormalization(axis=3,scale=False,name=name+'_conv2d'+'_bn')(x)\n",
        "  if act:\n",
        "    x = Activation('relu',name=name+'_conv2d'+'_act')(x)\n",
        "  return x"
      ],
      "execution_count": 0,
      "outputs": []
    },
    {
      "cell_type": "markdown",
      "metadata": {
        "id": "htPtvHABZVw_",
        "colab_type": "text"
      },
      "source": [
        "Inception Module"
      ]
    },
    {
      "cell_type": "code",
      "metadata": {
        "id": "q0Lw78G0S18-",
        "colab_type": "code",
        "colab": {}
      },
      "source": [
        "def inception_module(x,\n",
        "                     filters_1x1,\n",
        "                     filters_3x3_reduce,\n",
        "                     filters_3x3,\n",
        "                     filters_5x5_reduce,\n",
        "                     filters_5x5,\n",
        "                     filters_pool_proj,\n",
        "                     name=None):\n",
        "    \n",
        "    conv_1x1 = conv(x,filters_1x1, (1, 1), batchnorm=USE_BATCHNORM, name=name+'_1x1')\n",
        "    \n",
        "    conv_3x3 = conv(x,filters_3x3_reduce, (1, 1), batchnorm=USE_BATCHNORM, name=name+'_3x3_reduce')\n",
        "    conv_3x3 = conv(conv_3x3,filters_3x3, (3, 3), batchnorm=USE_BATCHNORM, name=name+'_3x3')\n",
        "\n",
        "    conv_5x5 = conv(x,filters_5x5_reduce, (1, 1), batchnorm=USE_BATCHNORM, name=name+'_5x5_reduce')\n",
        "    conv_5x5 = conv(conv_5x5,filters_5x5, (5, 5), batchnorm=USE_BATCHNORM, name=name+'_5x5')\n",
        "\n",
        "    pool_proj = MaxPool2D((3, 3), strides=(1, 1), padding='same')(x)\n",
        "    pool_proj = conv(pool_proj,filters_pool_proj, (1, 1), batchnorm=USE_BATCHNORM,name=name+'_pool_proj')\n",
        "\n",
        "    output = concatenate([conv_1x1, conv_3x3, conv_5x5, pool_proj], axis=3, name=name)\n",
        "    \n",
        "    return output"
      ],
      "execution_count": 0,
      "outputs": []
    },
    {
      "cell_type": "markdown",
      "metadata": {
        "id": "8I7pGF7VZcb1",
        "colab_type": "text"
      },
      "source": [
        "Inception Net \\\\\n",
        "(Based on https://www.analyticsvidhya.com/blog/2018/10/understanding-inception-network-from-scratch/)"
      ]
    },
    {
      "cell_type": "code",
      "metadata": {
        "id": "j8fQCgpDTDzB",
        "colab_type": "code",
        "colab": {}
      },
      "source": [
        "#Input\n",
        "x = input_img\n",
        "\n",
        "# Inception modules\n",
        "x = inception_module(x,\n",
        "                     filters_1x1=64,\n",
        "                     filters_3x3_reduce=96,\n",
        "                     filters_3x3=128,\n",
        "                     filters_5x5_reduce=16,\n",
        "                     filters_5x5=32,\n",
        "                     filters_pool_proj=32,\n",
        "                     name='inception_3a')\n",
        "\n",
        "x = inception_module(x,\n",
        "                     filters_1x1=128,\n",
        "                     filters_3x3_reduce=128,\n",
        "                     filters_3x3=192,\n",
        "                     filters_5x5_reduce=32,\n",
        "                     filters_5x5=96,\n",
        "                     filters_pool_proj=64,\n",
        "                     name='inception_3b')\n",
        "\n",
        "x = MaxPool2D((3, 3), padding='same', strides=(2, 2), name='max_pool_3_3x3/2')(x)\n",
        "\n",
        "x = inception_module(x,\n",
        "                     filters_1x1=192,\n",
        "                     filters_3x3_reduce=96,\n",
        "                     filters_3x3=208,\n",
        "                     filters_5x5_reduce=16,\n",
        "                     filters_5x5=48,\n",
        "                     filters_pool_proj=64,\n",
        "                     name='inception_4a')\n",
        "\n",
        "x = inception_module(x,\n",
        "                     filters_1x1=160,\n",
        "                     filters_3x3_reduce=112,\n",
        "                     filters_3x3=224,\n",
        "                     filters_5x5_reduce=24,\n",
        "                     filters_5x5=64,\n",
        "                     filters_pool_proj=64,\n",
        "                     name='inception_4b')\n",
        "\n",
        "x = inception_module(x,\n",
        "                     filters_1x1=128,\n",
        "                     filters_3x3_reduce=128,\n",
        "                     filters_3x3=256,\n",
        "                     filters_5x5_reduce=24,\n",
        "                     filters_5x5=64,\n",
        "                     filters_pool_proj=64,\n",
        "                     name='inception_4c')\n",
        "\n",
        "x = inception_module(x,\n",
        "                     filters_1x1=112,\n",
        "                     filters_3x3_reduce=144,\n",
        "                     filters_3x3=288,\n",
        "                     filters_5x5_reduce=32,\n",
        "                     filters_5x5=64,\n",
        "                     filters_pool_proj=64,\n",
        "                     name='inception_4d')\n",
        "\n",
        "x = inception_module(x,\n",
        "                     filters_1x1=256,\n",
        "                     filters_3x3_reduce=160,\n",
        "                     filters_3x3=320,\n",
        "                     filters_5x5_reduce=32,\n",
        "                     filters_5x5=128,\n",
        "                     filters_pool_proj=128,\n",
        "                     name='inception_4e')\n",
        "\n",
        "x = MaxPool2D((3, 3), padding='same', strides=(2, 2), name='max_pool_4_3x3/2')(x)\n",
        "\n",
        "x = inception_module(x,\n",
        "                     filters_1x1=256,\n",
        "                     filters_3x3_reduce=160,\n",
        "                     filters_3x3=320,\n",
        "                     filters_5x5_reduce=32,\n",
        "                     filters_5x5=128,\n",
        "                     filters_pool_proj=128,\n",
        "                     name='inception_5a')\n",
        "\n",
        "x = inception_module(x,\n",
        "                     filters_1x1=384,\n",
        "                     filters_3x3_reduce=192,\n",
        "                     filters_3x3=384,\n",
        "                     filters_5x5_reduce=48,\n",
        "                     filters_5x5=128,\n",
        "                     filters_pool_proj=128,\n",
        "                     name='inception_5b')\n",
        "\n",
        "x = GlobalAveragePooling2D(name='avg_pool_5_3x3/1')(x)\n",
        "\n",
        "# Fully connected Layer\n",
        "x = Dense(10, activation='softmax', name='output')(x)"
      ],
      "execution_count": 0,
      "outputs": []
    },
    {
      "cell_type": "code",
      "metadata": {
        "id": "TqoUmo48i3Z6",
        "colab_type": "code",
        "colab": {}
      },
      "source": [
        "model = Model(input_img, x, name='inception_v3')"
      ],
      "execution_count": 0,
      "outputs": []
    },
    {
      "cell_type": "markdown",
      "metadata": {
        "id": "fvPpfLz3Zh1F",
        "colab_type": "text"
      },
      "source": [
        "Output Model"
      ]
    },
    {
      "cell_type": "code",
      "metadata": {
        "id": "VvKnawUKVI64",
        "colab_type": "code",
        "colab": {}
      },
      "source": [
        "model.summary()\n",
        "# Comment next line in to plot full model\n",
        "# plot_model(model, show_shapes=True, to_file='inception_module.png')"
      ],
      "execution_count": 0,
      "outputs": []
    },
    {
      "cell_type": "markdown",
      "metadata": {
        "id": "chL7CNYGan7X",
        "colab_type": "text"
      },
      "source": [
        "# Training"
      ]
    },
    {
      "cell_type": "markdown",
      "metadata": {
        "id": "Yiwebm-4fNZO",
        "colab_type": "text"
      },
      "source": [
        "Parameters"
      ]
    },
    {
      "cell_type": "code",
      "metadata": {
        "id": "6QA6ge-9fPq6",
        "colab_type": "code",
        "colab": {}
      },
      "source": [
        "BATCH_SIZE = 250\n",
        "EPOCHS = 30\n",
        "STEPS=len(X_train)/BATCH_SIZE\n",
        "\n",
        "INITIAL_LRATE = 0.01\n",
        "DROP = 0.1\n",
        "EPOCHS_DROP = 10"
      ],
      "execution_count": 0,
      "outputs": []
    },
    {
      "cell_type": "markdown",
      "metadata": {
        "id": "ZbUBHJwBayZG",
        "colab_type": "text"
      },
      "source": [
        "New Tensorboard Callback"
      ]
    },
    {
      "cell_type": "code",
      "metadata": {
        "id": "xnX00Nhu8fW5",
        "colab_type": "code",
        "colab": {}
      },
      "source": [
        "logdir = \"/content/logs/scalars/BN_LR001_BS10_E30_\" + datetime.now().strftime(\"%Y%m%d-%H%M%S\")\n",
        "tensorboard_callback = TensorBoard(log_dir=logdir, batch_size=BATCH_SIZE)"
      ],
      "execution_count": 0,
      "outputs": []
    },
    {
      "cell_type": "markdown",
      "metadata": {
        "id": "jOiIiKcvkQTl",
        "colab_type": "text"
      },
      "source": [
        "Data Augmentation and Train Generator"
      ]
    },
    {
      "cell_type": "code",
      "metadata": {
        "id": "H5Dex_0HkMYs",
        "colab_type": "code",
        "colab": {}
      },
      "source": [
        "# Flip, shear and zoom images\n",
        "train_datagen = ImageDataGenerator(\n",
        "  horizontal_flip=True,\n",
        "  shear_range = 0.2,\n",
        "  zoom_range = 0.2)\n",
        "train_datagen.fit(X_train)\n",
        "train_generator = train_datagen.flow(X_train, y_train, batch_size=BATCH_SIZE)"
      ],
      "execution_count": 0,
      "outputs": []
    },
    {
      "cell_type": "markdown",
      "metadata": {
        "id": "1BMXu0SSbYz5",
        "colab_type": "text"
      },
      "source": [
        "Train Model \\\\\n",
        "(Based on https://www.analyticsvidhya.com/blog/2018/10/understanding-inception-network-from-scratch/)"
      ]
    },
    {
      "cell_type": "code",
      "metadata": {
        "id": "x5cJpZIVknsv",
        "colab_type": "code",
        "colab": {}
      },
      "source": [
        "# Learning rate decay\n",
        "def decay(epoch, steps=STEPS):\n",
        "    initial_lrate = INITIAL_LRATE\n",
        "    drop = DROP\n",
        "    epochs_drop = EPOCHS_DROP\n",
        "    lrate = initial_lrate * math.pow(drop, math.floor((1+epoch)/epochs_drop))\n",
        "    return lrate\n",
        "\n",
        "lr_sc = LearningRateScheduler(decay, verbose=1)\n",
        "\n",
        "# SGD Optimizer\n",
        "sgd = SGD(lr=INITIAL_LRATE, momentum=0.9, nesterov=False)\n",
        "\n",
        "# Compile Model\n",
        "model.compile(loss= 'categorical_crossentropy', optimizer=sgd, metrics=['accuracy'])"
      ],
      "execution_count": 0,
      "outputs": []
    },
    {
      "cell_type": "code",
      "metadata": {
        "id": "dFRForSikByh",
        "colab_type": "code",
        "colab": {}
      },
      "source": [
        "model.fit_generator(train_generator, steps_per_epoch=STEPS, epochs=EPOCHS, validation_data=(X_test, y_test), callbacks=[tensorboard_callback,lr_sc])"
      ],
      "execution_count": 0,
      "outputs": []
    },
    {
      "cell_type": "markdown",
      "metadata": {
        "id": "0SnUxgDPbfuJ",
        "colab_type": "text"
      },
      "source": [
        "Tensorboard"
      ]
    },
    {
      "cell_type": "code",
      "metadata": {
        "id": "7Qtz4fo19nng",
        "colab_type": "code",
        "colab": {}
      },
      "source": [
        "%tensorboard --logdir /content/logs/scalars"
      ],
      "execution_count": 0,
      "outputs": []
    }
  ]
}